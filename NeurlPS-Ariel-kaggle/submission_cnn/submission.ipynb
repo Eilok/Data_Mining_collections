{
 "cells": [
  {
   "cell_type": "code",
   "execution_count": 1,
   "id": "01f44b92",
   "metadata": {
    "execution": {
     "iopub.execute_input": "2024-10-02T02:38:16.691708Z",
     "iopub.status.busy": "2024-10-02T02:38:16.691311Z",
     "iopub.status.idle": "2024-10-02T02:38:23.623265Z",
     "shell.execute_reply": "2024-10-02T02:38:23.622455Z"
    },
    "papermill": {
     "duration": 6.940345,
     "end_time": "2024-10-02T02:38:23.625698",
     "exception": false,
     "start_time": "2024-10-02T02:38:16.685353",
     "status": "completed"
    },
    "tags": []
   },
   "outputs": [],
   "source": [
    "# import library\n",
    "import numpy as np\n",
    "import pandas as pd\n",
    "import itertools\n",
    "import os\n",
    "import glob \n",
    "# from astropy.stats import sigma_clip\n",
    "\n",
    "from tqdm import tqdm\n",
    "\n",
    "import torch\n",
    "import torch.nn as nn\n",
    "import torch.optim as optim"
   ]
  },
  {
   "cell_type": "code",
   "execution_count": 2,
   "id": "7074035d",
   "metadata": {
    "execution": {
     "iopub.execute_input": "2024-10-02T02:38:23.633833Z",
     "iopub.status.busy": "2024-10-02T02:38:23.633418Z",
     "iopub.status.idle": "2024-10-02T02:38:23.694537Z",
     "shell.execute_reply": "2024-10-02T02:38:23.693876Z"
    },
    "papermill": {
     "duration": 0.0671,
     "end_time": "2024-10-02T02:38:23.696423",
     "exception": false,
     "start_time": "2024-10-02T02:38:23.629323",
     "status": "completed"
    },
    "tags": []
   },
   "outputs": [],
   "source": [
    "code_folder = \"/kaggle/input/ariel-submission/\"\n",
    "exec(open(code_folder+'feature_engineering.py', 'r').read())\n",
    "exec(open(code_folder+'preprocess_data.py', 'r').read())\n",
    "exec(open(code_folder+'mean_transit.py', 'r').read())\n",
    "exec(open(code_folder+'preprocess_targets.py', 'r').read())\n",
    "exec(open(code_folder+'models.py', 'r').read())\n",
    "exec(open(code_folder+'MC_dropout.py', 'r').read())\n",
    "exec(open(code_folder+'atmospheric_feature.py', 'r').read())\n",
    "exec(open(code_folder+'postprocessing.py', 'r').read())"
   ]
  },
  {
   "cell_type": "markdown",
   "id": "d72d7bdb",
   "metadata": {
    "papermill": {
     "duration": 0.002794,
     "end_time": "2024-10-02T02:38:23.702262",
     "exception": false,
     "start_time": "2024-10-02T02:38:23.699468",
     "status": "completed"
    },
    "tags": []
   },
   "source": [
    "data preprocess"
   ]
  },
  {
   "cell_type": "code",
   "execution_count": 3,
   "id": "55b64cba",
   "metadata": {
    "execution": {
     "iopub.execute_input": "2024-10-02T02:38:23.709300Z",
     "iopub.status.busy": "2024-10-02T02:38:23.709015Z",
     "iopub.status.idle": "2024-10-02T02:38:23.712711Z",
     "shell.execute_reply": "2024-10-02T02:38:23.712017Z"
    },
    "papermill": {
     "duration": 0.009422,
     "end_time": "2024-10-02T02:38:23.714638",
     "exception": false,
     "start_time": "2024-10-02T02:38:23.705216",
     "status": "completed"
    },
    "tags": []
   },
   "outputs": [],
   "source": [
    "path_folder = \"/kaggle/input/ariel-data-challenge-2024/\"\n",
    "model_folder = \"/kaggle/input/ariel_sub/pytorch/default/1/\""
   ]
  },
  {
   "cell_type": "code",
   "execution_count": 4,
   "id": "40368805",
   "metadata": {
    "execution": {
     "iopub.execute_input": "2024-10-02T02:38:23.721533Z",
     "iopub.status.busy": "2024-10-02T02:38:23.721246Z",
     "iopub.status.idle": "2024-10-02T02:38:23.724971Z",
     "shell.execute_reply": "2024-10-02T02:38:23.724163Z"
    },
    "papermill": {
     "duration": 0.009269,
     "end_time": "2024-10-02T02:38:23.726844",
     "exception": false,
     "start_time": "2024-10-02T02:38:23.717575",
     "status": "completed"
    },
    "tags": []
   },
   "outputs": [],
   "source": [
    "CHUNKS_SIZE = 1"
   ]
  },
  {
   "cell_type": "code",
   "execution_count": 5,
   "id": "8194f580",
   "metadata": {
    "execution": {
     "iopub.execute_input": "2024-10-02T02:38:23.733887Z",
     "iopub.status.busy": "2024-10-02T02:38:23.733578Z",
     "iopub.status.idle": "2024-10-02T02:38:44.752437Z",
     "shell.execute_reply": "2024-10-02T02:38:44.751176Z"
    },
    "papermill": {
     "duration": 21.02472,
     "end_time": "2024-10-02T02:38:44.754531",
     "exception": false,
     "start_time": "2024-10-02T02:38:23.729811",
     "status": "completed"
    },
    "tags": []
   },
   "outputs": [
    {
     "name": "stderr",
     "output_type": "stream",
     "text": [
      "100%|██████████| 1/1 [00:20<00:00, 20.57s/it]\n"
     ]
    }
   ],
   "source": [
    "test_adc_info = pd.read_csv(os.path.join(path_folder, 'test_adc_info.csv'))\n",
    "test_adc_info = test_adc_info.set_index('planet_id')\n",
    "axis_info = pd.read_parquet(os.path.join(path_folder,'axis_info.parquet'))\n",
    "\n",
    "index = test_adc_info.index\n",
    "data_train_AIRS, data_train_FGS = preprocess_data(index, CHUNKS_SIZE, path_folder, test_adc_info, axis_info)"
   ]
  },
  {
   "cell_type": "code",
   "execution_count": 6,
   "id": "0cfad5ad",
   "metadata": {
    "execution": {
     "iopub.execute_input": "2024-10-02T02:38:44.763355Z",
     "iopub.status.busy": "2024-10-02T02:38:44.762502Z",
     "iopub.status.idle": "2024-10-02T02:38:47.747373Z",
     "shell.execute_reply": "2024-10-02T02:38:47.746371Z"
    },
    "papermill": {
     "duration": 2.99194,
     "end_time": "2024-10-02T02:38:47.750007",
     "exception": false,
     "start_time": "2024-10-02T02:38:44.758067",
     "status": "completed"
    },
    "tags": []
   },
   "outputs": [
    {
     "name": "stderr",
     "output_type": "stream",
     "text": [
      "/tmp/ipykernel_23/2184568666.py:13: FutureWarning: You are using `torch.load` with `weights_only=False` (the current default value), which uses the default pickle module implicitly. It is possible to construct malicious pickle data which will execute arbitrary code during unpickling (See https://github.com/pytorch/pytorch/blob/main/SECURITY.md#untrusted-models for more details). In a future release, the default value for `weights_only` will be flipped to `True`. This limits the functions that could be executed during unpickling. Arbitrary objects will no longer be allowed to be loaded via this mode unless they are explicitly allowlisted by the user via `torch.serialization.add_safe_globals`. We recommend you start setting `weights_only=True` for any use case where you don't have full control of the loaded file. Please open an issue on GitHub for any issues related to this experimental feature.\n",
      "  model_wc.load_state_dict(torch.load(model_folder + 'model_1dcnn.pth'))\n",
      "/tmp/ipykernel_23/2184568666.py:36: FutureWarning: You are using `torch.load` with `weights_only=False` (the current default value), which uses the default pickle module implicitly. It is possible to construct malicious pickle data which will execute arbitrary code during unpickling (See https://github.com/pytorch/pytorch/blob/main/SECURITY.md#untrusted-models for more details). In a future release, the default value for `weights_only` will be flipped to `True`. This limits the functions that could be executed during unpickling. Arbitrary objects will no longer be allowed to be loaded via this mode unless they are explicitly allowlisted by the user via `torch.serialization.add_safe_globals`. We recommend you start setting `weights_only=True` for any use case where you don't have full control of the loaded file. Please open an issue on GitHub for any issues related to this experimental feature.\n",
      "  model.load_state_dict(torch.load(model_folder + 'model_2dcnn.pth'))\n"
     ]
    }
   ],
   "source": [
    "SEED = 42\n",
    "\n",
    "train_solution = np.loadtxt(f'{path_folder}/train_labels.csv', delimiter = ',', skiprows = 1)\n",
    "\n",
    "targets, targets_mean = get_targets(train_solution)\n",
    "\n",
    "# mean transit\n",
    "wc = get_wc(data_train_AIRS)\n",
    "wc_norm = normalize_wlc(wc)\n",
    "targets_norm, min_targets_wc, max_targets_wc = get_targets_wc(targets_mean)\n",
    "\n",
    "model_wc = CNN1D()\n",
    "model_wc.load_state_dict(torch.load(model_folder + 'model_1dcnn.pth'))\n",
    "\n",
    "nb_dropout_wc = 1000 # predict 1000 times\n",
    "prediction_wc = MC_dropout_WC(model_wc, wc_norm, nb_dropout_wc)\n",
    "spectre_wc_all = unstandardizing(prediction_wc.numpy(), min_targets_wc, max_targets_wc)\n",
    "spectre_wc = spectre_wc_all.mean(axis=0)\n",
    "spectre_std_wc = spectre_wc_all.std(axis=0)\n",
    "\n",
    "# residuals = targets_mean - spectre_wc\n",
    "# print('RMSE : ', np.sqrt((residuals**2).mean())*1e6, 'ppm') #（ppm，parts per million）\n",
    "\n",
    "# atmospheric features\n",
    "targets_shift = suppress_mean(targets, targets_mean)\n",
    "targets_norm, targets_abs_max = targets_normalization(targets_shift)\n",
    "\n",
    "dataset = combine_data(data_train_AIRS, data_train_FGS)\n",
    "dataset_norm = norm_star_spectrum(dataset)\n",
    "ingress, egress = 75, 115\n",
    "data_in = suppress_out_transit(dataset_norm, ingress, egress)\n",
    "data_in_mean = substract_data_mean(data_in)\n",
    "data_in_norm, data_abs_max = data_norm(data_in_mean)\n",
    "\n",
    "model = CNN2D()\n",
    "model.load_state_dict(torch.load(model_folder + 'model_2dcnn.pth'))\n",
    "\n",
    "nb_dropout = 5  # the number of MC Dropout\n",
    "spectre_data_shift, spectre_data_shift_std = NN_uncertainty(model, data_in_norm, targets_abs_max, T=nb_dropout)\n",
    "\n",
    "# residuals = targets_shift - spectre_data_shift\n",
    "# print('RMSE : ', np.sqrt((residuals**2).mean())*1e6, 'ppm')\n"
   ]
  },
  {
   "cell_type": "code",
   "execution_count": 7,
   "id": "d2c09a05",
   "metadata": {
    "execution": {
     "iopub.execute_input": "2024-10-02T02:38:47.760008Z",
     "iopub.status.busy": "2024-10-02T02:38:47.759673Z",
     "iopub.status.idle": "2024-10-02T02:38:47.773920Z",
     "shell.execute_reply": "2024-10-02T02:38:47.773077Z"
    },
    "papermill": {
     "duration": 0.021422,
     "end_time": "2024-10-02T02:38:47.775944",
     "exception": false,
     "start_time": "2024-10-02T02:38:47.754522",
     "status": "completed"
    },
    "tags": []
   },
   "outputs": [],
   "source": [
    "# combine the mean of transit and atmospheric spectrum to get final results\n",
    "predictions = spectre_data_shift + spectre_wc[:, np.newaxis]\n",
    "\n",
    "# final uncertainty\n",
    "predictions_std = np.sqrt(spectre_data_shift_std**2 + spectre_std_wc[:, np.newaxis]**2)\n",
    "\n",
    "sub_df = postprocessing(predictions, predictions_std, index)\n",
    "sub_df.to_csv('/kaggle/working/submission.csv')"
   ]
  }
 ],
 "metadata": {
  "kaggle": {
   "accelerator": "nvidiaTeslaT4",
   "dataSources": [
    {
     "databundleVersionId": 9188054,
     "sourceId": 70367,
     "sourceType": "competition"
    },
    {
     "datasetId": 5799921,
     "sourceId": 9528101,
     "sourceType": "datasetVersion"
    },
    {
     "modelId": 129281,
     "modelInstanceId": 105059,
     "sourceId": 124822,
     "sourceType": "modelInstanceVersion"
    }
   ],
   "dockerImageVersionId": 30775,
   "isGpuEnabled": true,
   "isInternetEnabled": false,
   "language": "python",
   "sourceType": "notebook"
  },
  "kernelspec": {
   "display_name": "Python 3",
   "language": "python",
   "name": "python3"
  },
  "language_info": {
   "codemirror_mode": {
    "name": "ipython",
    "version": 3
   },
   "file_extension": ".py",
   "mimetype": "text/x-python",
   "name": "python",
   "nbconvert_exporter": "python",
   "pygments_lexer": "ipython3",
   "version": "3.10.14"
  },
  "papermill": {
   "default_parameters": {},
   "duration": 37.193534,
   "end_time": "2024-10-02T02:38:50.150036",
   "environment_variables": {},
   "exception": null,
   "input_path": "__notebook__.ipynb",
   "output_path": "__notebook__.ipynb",
   "parameters": {},
   "start_time": "2024-10-02T02:38:12.956502",
   "version": "2.6.0"
  }
 },
 "nbformat": 4,
 "nbformat_minor": 5
}
