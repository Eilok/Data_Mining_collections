{
 "cells": [
  {
   "cell_type": "code",
   "execution_count": 1,
   "metadata": {},
   "outputs": [],
   "source": [
    "# import library\n",
    "import numpy as np\n",
    "import pandas as pd\n",
    "import itertools\n",
    "import os\n",
    "import glob \n",
    "# from astropy.stats import sigma_clip\n",
    "\n",
    "from tqdm import tqdm"
   ]
  },
  {
   "cell_type": "markdown",
   "metadata": {},
   "source": [
    "set some parameters"
   ]
  },
  {
   "cell_type": "code",
   "execution_count": 2,
   "metadata": {},
   "outputs": [
    {
     "name": "stdout",
     "output_type": "stream",
     "text": [
      "Directory ./../autodl-tmp/data_raw/ already exists.\n"
     ]
    }
   ],
   "source": [
    "# define file path\n",
    "path_folder = './../autodl-tmp/'\n",
    "path_out = './../autodl-tmp/data_raw/'\n",
    "\n",
    "if not os.path.exists(path_out):\n",
    "    os.makedirs(path_out)\n",
    "    print(f\"Directory {path_out} created.\")\n",
    "else:\n",
    "    print(f\"Directory {path_out} already exists.\")"
   ]
  },
  {
   "cell_type": "code",
   "execution_count": 3,
   "metadata": {},
   "outputs": [],
   "source": [
    "# set chunk size to avoid exceeding the memory capacity\n",
    "CHUNKS_SIZE = 4"
   ]
  },
  {
   "cell_type": "markdown",
   "metadata": {},
   "source": [
    "step 1: analog-to-digital conversion"
   ]
  },
  {
   "cell_type": "code",
   "execution_count": 4,
   "metadata": {},
   "outputs": [],
   "source": [
    "def ADC_convert(signal, gain, offset):\n",
    "    \"\"\"\n",
    "    Converts ADC (Analog-to-Digital Converter) signals to actual values.\n",
    "\n",
    "    This function is used to convert digital signals obtained from an ADC to their corresponding physical values based on the gain and offset.\n",
    "\n",
    "    Parameters:\n",
    "    - signal: Array of digital signals obtained from the ADC.\n",
    "    - gain: Gain value used to scale the signal intensity back to its actual value.\n",
    "    - offset: Offset value used to adjust the signal to the correct measurement range.\n",
    "\n",
    "    Returns:\n",
    "    - Corrected signal array representing the actual physical values.\n",
    "    \"\"\"\n",
    "    # Convert the signal to floating-point numbers to improve precision\n",
    "    signal = signal.astype(np.float64)\n",
    "    \n",
    "    # Divide the signal by the gain to restore the signal intensity\n",
    "    signal /= gain\n",
    "    \n",
    "    # Add the offset to adjust the signal to the correct measurement range\n",
    "    signal += offset\n",
    "    \n",
    "    # Return the corrected signal\n",
    "    return signal"
   ]
  },
  {
   "cell_type": "markdown",
   "metadata": {},
   "source": [
    "step 2: readout noise correction"
   ]
  },
  {
   "cell_type": "code",
   "execution_count": 5,
   "metadata": {},
   "outputs": [],
   "source": [
    "def readout_correct(signal, read_noise):\n",
    "    \"\"\"\n",
    "    Subtract readout noise from the signal.\n",
    "\n",
    "    Parameters:\n",
    "    - signal: Signal array from which readout noise is to be subtracted.\n",
    "    - read_noise: Readout noise array to be subtracted from the signal array.\n",
    "\n",
    "    Returns:\n",
    "    - signal_readout: Signal array after subtracting readout noise.\n",
    "    \"\"\"\n",
    "    # Tile the readout noise array to match the dimensions of the signal array.\n",
    "    read_noise = np.tile(read_noise, (signal.shape[0], 1, 1))\n",
    "    # Subtract readout noise from the signal.\n",
    "    signal_readout = signal - read_noise\n",
    "    return signal_readout"
   ]
  },
  {
   "cell_type": "markdown",
   "metadata": {},
   "source": [
    "step 3: Mask hot/dead pixel"
   ]
  },
  {
   "cell_type": "code",
   "execution_count": 6,
   "metadata": {},
   "outputs": [],
   "source": [
    "def mask_hot_dead(signal, dead, dark, maxiters=5, sigma=5):\n",
    "    '''\n",
    "    This function identifies and masks hot and dead pixels in the input signal.\n",
    "\n",
    "    Parameters:\n",
    "    - signal: The primary input data, typically raw signals collected from astronomical instruments (like images or time series data). The shape of the signal matrix is usually (time, height, width), representing images at different times (or multiple frames).\n",
    "\n",
    "    - dead: A matrix indicating dead pixels. This matrix marks which pixels in the sensor are dead (i.e., do not respond to light signals). The shape of the dead matrix should match a single frame image, typically (height, width).\n",
    "\n",
    "    - dark: Represents \"dark frame\" data. Dark frames are measured under no-light conditions to capture hot pixels or other electronic noise in the detector. The shape of the dark matrix also matches a single frame image.\n",
    "    \n",
    "    Returns:\n",
    "    - signal: The processed signal with hot and dead pixels masked.\n",
    "    '''\n",
    "    # Initialize hot pixel mask as a boolean array of False (no pixels masked initially)\n",
    "    hot_mask = np.zeros_like(dark, dtype=bool)\n",
    "    \n",
    "    # Iteratively mask values that exceed the sigma threshold\n",
    "    for _ in range(maxiters):\n",
    "        # Calculate mean and standard deviation of unmasked values\n",
    "        mean_dark = np.mean(dark[~hot_mask])\n",
    "        std_dark = np.std(dark[~hot_mask])\n",
    "        \n",
    "        # Find new hot pixels exceeding the sigma threshold\n",
    "        new_mask = np.abs(dark - mean_dark) > sigma * std_dark\n",
    "        \n",
    "        # Update hot_mask to include newly detected hot pixels\n",
    "        hot_mask |= new_mask  # Use bitwise OR to accumulate masks\n",
    "        \n",
    "        # If no new pixels are being masked, stop iterating\n",
    "        if not np.any(new_mask):\n",
    "            break\n",
    "    # Extend the hot and dead pixel masks across the entire time dimension to match the shape of the signal\n",
    "    hot = np.tile(hot_mask, (signal.shape[0], 1, 1))\n",
    "    dead = np.tile(dead, (signal.shape[0], 1, 1))\n",
    "    # Mask dead and hot pixels\n",
    "    signal = np.ma.masked_where(dead, signal)\n",
    "    signal = np.ma.masked_where(hot, signal)\n",
    "    return signal"
   ]
  },
  {
   "cell_type": "markdown",
   "metadata": {},
   "source": [
    "step 4: linearity correction"
   ]
  },
  {
   "cell_type": "code",
   "execution_count": 7,
   "metadata": {},
   "outputs": [],
   "source": [
    "def apply_linear_corr(linear_corr, clean_signal):\n",
    "    \"\"\"\n",
    "    Apply linear correction to the clean signal.\n",
    "\n",
    "    Parameters:\n",
    "    linear_corr: Array of polynomial correction coefficients, where each row corresponds to a polynomial's coefficients.\n",
    "    clean_signal: Original signal data, a three-dimensional array where the first dimension represents the signal sequence, and the last two dimensions represent the image's two-dimensional pixel coordinates.\n",
    "\n",
    "    Returns:\n",
    "    Corrected signal.\n",
    "    \"\"\"\n",
    "    # Reverse the linear_corr array along the first dimension\n",
    "    # This is because the coefficients in np.poly1d are ordered from highest degree to lowest, while the linear_corr array stores them in reverse order\n",
    "    linear_corr = np.flip(linear_corr, axis=0)\n",
    "    \n",
    "    # Generate coordinate pairs (x, y) for each pixel in the image and iterate through each pixel\n",
    "    # This is to apply polynomial correction to each pixel individually\n",
    "    for x, y in itertools.product(\n",
    "                range(clean_signal.shape[1]), range(clean_signal.shape[2])\n",
    "            ):\n",
    "        # For each pixel (x, y), extract the corresponding polynomial coefficients linear_corr[:, x, y], and construct a polynomial function poli using np.poly1d\n",
    "        # This converts the polynomial coefficients into an evaluable polynomial function\n",
    "        poli = np.poly1d(linear_corr[:, x, y])\n",
    "        \n",
    "        # Apply the polynomial poli to the original signal clean_signal[:, x, y] and replace the original signal with the corrected result\n",
    "        # This directly replaces the original signal data with the output of the polynomial function, achieving the correction\n",
    "        clean_signal[:, x, y] = poli(clean_signal[:, x, y])\n",
    "    \n",
    "    # Return the corrected signal\n",
    "    return clean_signal"
   ]
  },
  {
   "cell_type": "markdown",
   "metadata": {},
   "source": [
    "step 5: dark current subtraction"
   ]
  },
  {
   "cell_type": "code",
   "execution_count": 8,
   "metadata": {},
   "outputs": [],
   "source": [
    "def clean_dark(signal, dead, dark, dt):\n",
    "    \"\"\"\n",
    "    Subtract dark current from the given signal, handling dead pixels.\n",
    "\n",
    "    Parameters:\n",
    "    signal: ndarray, observed signal to be corrected for dark current.\n",
    "    dead: ndarray, mask array indicating dead pixels, used to mask out dead pixels in dark current data.\n",
    "    dark: ndarray, dark current data, used to correct the signal.\n",
    "    dt: ndarray, array of time differences, used to adjust the contribution of dark current.\n",
    "\n",
    "    Returns:\n",
    "    ndarray, corrected signal with dark current removed.\n",
    "    \"\"\"\n",
    "    # Mask out dead pixels in the dark current data\n",
    "    dark = np.ma.masked_where(dead, dark)\n",
    "    # Tile the dark data along the time axis to match the shape of the signal.\n",
    "    dark = np.tile(dark, (signal.shape[0], 1, 1))\n",
    "    # Subtract the dark current from the observed signal.\n",
    "    signal -= dark * dt[:, np.newaxis, np.newaxis]  # Extend the shape of dt to enable broadcasting across the spatial dimensions of the signal.\n",
    "    return signal"
   ]
  },
  {
   "cell_type": "markdown",
   "metadata": {},
   "source": [
    "step 6: get correlated double sampling"
   ]
  },
  {
   "cell_type": "code",
   "execution_count": 9,
   "metadata": {},
   "outputs": [],
   "source": [
    "def get_cds(signal):\n",
    "    \"\"\"\n",
    "    Calculate and return the differential signal (CDS).\n",
    "\n",
    "    The CDS is computed by taking the difference between the odd and even columns of the input signal.\n",
    "    This method is commonly used in image processing and signal processing to capture local changes in the signal.\n",
    "\n",
    "    Parameters:\n",
    "    signal (ndarray): A four-dimensional array representing the input signal. The second dimension is interpreted as rows,\n",
    "                      where odd and even columns are subtracted to compute the differential signal.\n",
    "\n",
    "    Returns:\n",
    "    ndarray: An array containing the computed differential signal (CDS). The returned array has the same dimensions as the\n",
    "             input signal, except that the second dimension is halved because each pair of columns is combined to compute a single difference.\n",
    "    \"\"\"\n",
    "    # Compute the differential signal by subtracting even columns from odd columns\n",
    "    cds = signal[:,1::2,:,:] - signal[:,::2,:,:]\n",
    "    return cds"
   ]
  },
  {
   "cell_type": "markdown",
   "metadata": {},
   "source": [
    "step 7: flat field correction"
   ]
  },
  {
   "cell_type": "code",
   "execution_count": 10,
   "metadata": {},
   "outputs": [],
   "source": [
    "def correct_flat_field(flat, dead, signal):\n",
    "    '''\n",
    "    Function to perform flat field correction.\n",
    "    Flat field correction aims to correct the non-uniform response of each pixel in the detector, improving the accuracy of the observed signal.\n",
    "    \n",
    "    Parameters:\n",
    "    flat: Flat field image representing the response differences of each pixel in the detector.\n",
    "    dead: Mask for dead pixels, identifying failed or abnormal pixels (e.g., pixels that do not respond normally).\n",
    "    signal: Original observed signal that needs correction.\n",
    "    \n",
    "    Returns:\n",
    "    Corrected observed signal.\n",
    "    '''\n",
    "    # Transpose the flat field and dead pixel images for subsequent processing\n",
    "    # flat = flat.transpose(1, 0)\n",
    "    # dead = dead.transpose(1, 0)\n",
    "    \n",
    "    # Mask the flat field image to ignore the effect of dead pixels\n",
    "    flat = np.ma.masked_where(dead, flat)\n",
    "    \n",
    "    # Expand the flat field image along the time dimension to match the signal dimensions\n",
    "    flat = np.tile(flat, (signal.shape[0], 1, 1))\n",
    "    \n",
    "    # Perform flat field correction to remove non-uniform pixel responses\n",
    "    signal = signal / flat\n",
    "    # The flat field contains the response coefficients of each pixel, and this step eliminates the non-uniform response of different pixels, resulting in a more accurate signal.\n",
    "    \n",
    "    return signal"
   ]
  },
  {
   "cell_type": "markdown",
   "metadata": {},
   "source": [
    "step 8: time binning"
   ]
  },
  {
   "cell_type": "code",
   "execution_count": 11,
   "metadata": {},
   "outputs": [],
   "source": [
    "def bin_obs(signal, binning):\n",
    "    '''\n",
    "    Performs time binning on the signal data processed by Correlated Double Sampling (CDS).\n",
    "\n",
    "    Parameters:\n",
    "    cds_signal: The input signal data after Correlated Double Sampling, with shape (time, height, width).\n",
    "    binning: The stride for time binning, indicating how many time steps are merged into one.\n",
    "\n",
    "    Returns:\n",
    "    Binned signal data with reduced time steps and unchanged dimensions.\n",
    "    '''\n",
    "    # height*width -> width*height\n",
    "    signal_transposed = signal.transpose(0,1,3,2)\n",
    "    \n",
    "    # Create a new empty array `cds_binned` to store the binned signal data,\n",
    "    # reducing the time dimension length by a factor of 1/binning since multiple time steps are merged.\n",
    "    # Other dimensions remain unchanged.\n",
    "    signal_binned = np.zeros((signal_transposed.shape[0], signal_transposed.shape[1]//binning, signal_transposed.shape[2], signal_transposed.shape[3]))\n",
    "    \n",
    "    # Iterate over each new time step `i`\n",
    "    for i in range(signal_transposed.shape[1]//binning):\n",
    "        # Select `binning` consecutive time steps using i*binning:(i+1)*binning and merge them.\n",
    "        # np.sum(..., axis=1) sums these time steps along the time dimension, achieving time binning.\n",
    "        signal_binned[:,i,:,:] = np.sum(signal_transposed[:,i*binning:(i+1)*binning,:,:], axis=1)\n",
    "    \n",
    "    # Return the binned signal data with reduced time steps and unchanged dimensions\n",
    "    return signal_binned"
   ]
  },
  {
   "cell_type": "markdown",
   "metadata": {},
   "source": [
    "calibrating all training data"
   ]
  },
  {
   "cell_type": "code",
   "execution_count": 12,
   "metadata": {},
   "outputs": [],
   "source": [
    "# get the index of training data\n",
    "def get_index(files, CHUNKS_SIZE):\n",
    "    index = []\n",
    "    for file in files:\n",
    "        file_name = file.split('/')[-1]\n",
    "        if file_name.split('_')[0] == 'AIRS-CH0' and file_name.split('_')[1] == 'signal.parquet':\n",
    "            # file index is exoplanet ID\n",
    "            file_index = os.path.basename(os.path.dirname(file))\n",
    "            index.append(int(file_index))\n",
    "    index = np.array(index)\n",
    "    index = np.sort(index) \n",
    "    # divide based on chunks size\n",
    "    index=np.array_split(index, len(index)//CHUNKS_SIZE)\n",
    "\n",
    "    return index"
   ]
  },
  {
   "cell_type": "code",
   "execution_count": 13,
   "metadata": {},
   "outputs": [
    {
     "name": "stderr",
     "output_type": "stream",
     "text": [
      "100%|██████████| 168/168 [4:43:59<00:00, 101.42s/it]]\n"
     ]
    }
   ],
   "source": [
    "# conduct the process of calibration\n",
    "\n",
    "files = glob.glob(os.path.join(path_folder + 'train/', '*/*'))\n",
    "\n",
    "index = get_index(files[:], CHUNKS_SIZE)  # get the entire dataset\n",
    "\n",
    "train_adc_info = pd.read_csv(os.path.join(path_folder, 'train_adc_info.csv'))\n",
    "train_adc_info = train_adc_info.set_index('planet_id')\n",
    "axis_info = pd.read_parquet(os.path.join(path_folder,'axis_info.parquet'))\n",
    "DO_READ = True # readout correction\n",
    "DO_MASK = True  # mask dead and hot pixels\n",
    "DO_THE_NL_CORR = False  # linear correction\n",
    "DO_DARK = True # dark current correction\n",
    "DO_FLAT = True  # flat correction\n",
    "TIME_BINNING = True  # time binning\n",
    "\n",
    "cut_inf, cut_sup = 39, 321  # cut along the wavelength axis between pixels 39 to 321\n",
    "l = cut_sup - cut_inf\n",
    "\n",
    "# deal with each data chunk\n",
    "for n, index_chunk in enumerate(tqdm(index)):\n",
    "    AIRS_CH0_clean = np.zeros((CHUNKS_SIZE, 11250, 32, l))\n",
    "    FGS1_clean = np.zeros((CHUNKS_SIZE, 135000, 32, 32))\n",
    "    \n",
    "    # load signal and conduct ADC, readout, dark, flat, dead, linear correction\n",
    "    for i in range (CHUNKS_SIZE) : \n",
    "        # deal with AIRS-CH0\n",
    "        df = pd.read_parquet(os.path.join(path_folder,f'train/{index_chunk[i]}/AIRS-CH0_signal.parquet'))\n",
    "        signal = df.values.astype(np.float64).reshape((df.shape[0], 32, 356))\n",
    "        gain = train_adc_info['AIRS-CH0_adc_gain'].loc[index_chunk[i]]\n",
    "        offset = train_adc_info['AIRS-CH0_adc_offset'].loc[index_chunk[i]]\n",
    "        signal = ADC_convert(signal, gain, offset)\n",
    "        # dt_airs load signal integration time information\n",
    "        dt_airs = axis_info['AIRS-CH0-integration_time'].dropna().values\n",
    "        dt_airs[1::2] += 0.1\n",
    "        chopped_signal = signal[:, :, cut_inf:cut_sup]\n",
    "        del signal, df\n",
    "        \n",
    "        # clean AIRS data\n",
    "        readout = pd.read_parquet(os.path.join(path_folder,f'train/{index_chunk[i]}/AIRS-CH0_calibration/read.parquet')).values.astype(np.float64).reshape((32, 356))[:, cut_inf:cut_sup]\n",
    "        dark = pd.read_parquet(os.path.join(path_folder,f'train/{index_chunk[i]}/AIRS-CH0_calibration/dark.parquet')).values.astype(np.float64).reshape((32, 356))[:, cut_inf:cut_sup]\n",
    "        dead_airs = pd.read_parquet(os.path.join(path_folder,f'train/{index_chunk[i]}/AIRS-CH0_calibration/dead.parquet')).values.astype(np.float64).reshape((32, 356))[:, cut_inf:cut_sup]\n",
    "        linear_corr = pd.read_parquet(os.path.join(path_folder,f'train/{index_chunk[i]}/AIRS-CH0_calibration/linear_corr.parquet')).values.astype(np.float64).reshape((6, 32, 356))[:, :, cut_inf:cut_sup]\n",
    "        \n",
    "        if DO_READ:\n",
    "            chopped_signal = readout_correct(chopped_signal, readout)\n",
    "            AIRS_CH0_clean[i] = chopped_signal\n",
    "        else:\n",
    "            AIRS_CH0_clean[i] = chopped_signal\n",
    "        del readout\n",
    "\n",
    "        if DO_MASK:\n",
    "            chopped_signal = mask_hot_dead(chopped_signal, dead_airs, dark)\n",
    "            AIRS_CH0_clean[i] = chopped_signal\n",
    "        else:\n",
    "            AIRS_CH0_clean[i] = chopped_signal\n",
    "            \n",
    "        if DO_THE_NL_CORR: \n",
    "            linear_corr_signal = apply_linear_corr(linear_corr, AIRS_CH0_clean[i])\n",
    "            AIRS_CH0_clean[i,:, :, :] = linear_corr_signal\n",
    "        del linear_corr\n",
    "        \n",
    "        if DO_DARK: \n",
    "            cleaned_signal = clean_dark(AIRS_CH0_clean[i], dead_airs, dark, dt_airs)\n",
    "            AIRS_CH0_clean[i] = cleaned_signal\n",
    "        else: \n",
    "            pass\n",
    "        del dark\n",
    "        \n",
    "        # deal with FGS1 signal\n",
    "        df = pd.read_parquet(os.path.join(path_folder,f'train/{index_chunk[i]}/FGS1_signal.parquet'))\n",
    "        fgs_signal = df.values.astype(np.float64).reshape((df.shape[0], 32, 32))\n",
    "        \n",
    "        FGS1_gain = train_adc_info['FGS1_adc_gain'].loc[index_chunk[i]]\n",
    "        FGS1_offset = train_adc_info['FGS1_adc_offset'].loc[index_chunk[i]]\n",
    "        \n",
    "        fgs_signal = ADC_convert(fgs_signal, FGS1_gain, FGS1_offset)\n",
    "        dt_fgs1 = np.ones(len(fgs_signal))*0.1\n",
    "        dt_fgs1[1::2] += 0.1\n",
    "        chopped_FGS1 = fgs_signal\n",
    "        del fgs_signal, df\n",
    "        \n",
    "        # clean FGS1 data\n",
    "        readout = pd.read_parquet(os.path.join(path_folder,f'train/{index_chunk[i]}/FGS1_calibration/read.parquet')).values.astype(np.float64).reshape((32, 32))\n",
    "        dark = pd.read_parquet(os.path.join(path_folder,f'train/{index_chunk[i]}/FGS1_calibration/dark.parquet')).values.astype(np.float64).reshape((32, 32))\n",
    "        dead_fgs1 = pd.read_parquet(os.path.join(path_folder,f'train/{index_chunk[i]}/FGS1_calibration/dead.parquet')).values.astype(np.float64).reshape((32, 32))\n",
    "        linear_corr = pd.read_parquet(os.path.join(path_folder,f'train/{index_chunk[i]}/FGS1_calibration/linear_corr.parquet')).values.astype(np.float64).reshape((6, 32, 32))\n",
    "        \n",
    "        if DO_READ:\n",
    "            chopped_FGS1 = readout_correct(chopped_FGS1, readout)\n",
    "            FGS1_clean[i] = chopped_FGS1\n",
    "        else:\n",
    "            FGS1_clean[i] = chopped_FGS1\n",
    "        del readout\n",
    "        \n",
    "        if DO_MASK:\n",
    "            chopped_FGS1 = mask_hot_dead(chopped_FGS1, dead_fgs1, dark)\n",
    "            FGS1_clean[i] = chopped_FGS1\n",
    "        else:\n",
    "            FGS1_clean[i] = chopped_FGS1\n",
    "\n",
    "        if DO_THE_NL_CORR: \n",
    "            linear_corr_signal = apply_linear_corr(linear_corr, FGS1_clean[i])\n",
    "            FGS1_clean[i,:, :, :] = linear_corr_signal\n",
    "        del linear_corr\n",
    "        \n",
    "        if DO_DARK: \n",
    "            cleaned_signal = clean_dark(FGS1_clean[i], dead_fgs1, dark, dt_fgs1)\n",
    "            FGS1_clean[i] = cleaned_signal\n",
    "        else: \n",
    "            pass\n",
    "        del dark\n",
    "        \n",
    "    # CDS for whole chunk\n",
    "    AIRS_cds = get_cds(AIRS_CH0_clean)\n",
    "    FGS1_cds = get_cds(FGS1_clean)\n",
    "    \n",
    "    del AIRS_CH0_clean, FGS1_clean\n",
    "    \n",
    "    # flat field correction\n",
    "    for i in range (CHUNKS_SIZE):\n",
    "        flat_airs = pd.read_parquet(os.path.join(path_folder,f'train/{index_chunk[i]}/AIRS-CH0_calibration/flat.parquet')).values.astype(np.float64).reshape((32, 356))[:, cut_inf:cut_sup]\n",
    "        flat_fgs = pd.read_parquet(os.path.join(path_folder,f'train/{index_chunk[i]}/FGS1_calibration/flat.parquet')).values.astype(np.float64).reshape((32, 32))\n",
    "        if DO_FLAT:\n",
    "            corrected_AIRS_cds = correct_flat_field(flat_airs, dead_airs, AIRS_cds[i])\n",
    "            AIRS_cds[i] = corrected_AIRS_cds\n",
    "            corrected_FGS1_cds = correct_flat_field(flat_fgs, dead_fgs1, FGS1_cds[i])\n",
    "            FGS1_cds[i] = corrected_FGS1_cds\n",
    "        else:\n",
    "            pass\n",
    "\n",
    "    # Time Binning to reduce space\n",
    "    if TIME_BINNING:\n",
    "        AIRS_cds_binned = bin_obs(AIRS_cds,binning=30)\n",
    "        FGS1_cds_binned = bin_obs(FGS1_cds,binning=30*12)\n",
    "    else:\n",
    "        AIRS_cds = AIRS_cds.transpose(0,1,3,2) ## this is important to make it consistent for flat fielding, but you can always change it\n",
    "        AIRS_cds_binned = AIRS_cds\n",
    "        FGS1_cds = FGS1_cds.transpose(0,1,3,2)\n",
    "        FGS1_cds_binned = FGS1_cds\n",
    "    \n",
    "    del AIRS_cds, FGS1_cds\n",
    "    \n",
    "    \n",
    "    ## save data\n",
    "    np.save(os.path.join(path_out, 'AIRS_clean_train_{}.npy'.format(n)), AIRS_cds_binned)\n",
    "    np.save(os.path.join(path_out, 'FGS1_clean_train_{}.npy'.format(n)), FGS1_cds_binned)\n",
    "    del AIRS_cds_binned\n",
    "    del FGS1_cds_binned"
   ]
  },
  {
   "cell_type": "code",
   "execution_count": 14,
   "metadata": {},
   "outputs": [
    {
     "name": "stderr",
     "output_type": "stream",
     "text": [
      "100%|██████████| 1/1 [02:17<00:00, 137.83s/it]\n"
     ]
    }
   ],
   "source": [
    "# deal with the first chunk separately (the first chunk size is 5)\n",
    "files = glob.glob(os.path.join(path_folder + 'train/', '*/*'))\n",
    "\n",
    "index = get_index(files[:], CHUNKS_SIZE)  # get the entire dataset\n",
    "\n",
    "train_adc_info = pd.read_csv(os.path.join(path_folder, 'train_adc_info.csv'))\n",
    "train_adc_info = train_adc_info.set_index('planet_id')\n",
    "axis_info = pd.read_parquet(os.path.join(path_folder,'axis_info.parquet'))\n",
    "DO_READ = True # readout correction\n",
    "DO_MASK = True  # mask dead and hot pixels\n",
    "DO_THE_NL_CORR = False  # linear correction\n",
    "DO_DARK = True # dark current correction\n",
    "DO_FLAT = True  # flat correction\n",
    "TIME_BINNING = True  # time binning\n",
    "\n",
    "cut_inf, cut_sup = 39, 321  # cut along the wavelength axis between pixels 39 to 321\n",
    "l = cut_sup - cut_inf\n",
    "\n",
    "# deal with each data chunk\n",
    "for n, index_chunk in enumerate(tqdm([index[0]])):\n",
    "    AIRS_CH0_clean = np.zeros((5, 11250, 32, l))\n",
    "    FGS1_clean = np.zeros((5, 135000, 32, 32))\n",
    "    \n",
    "    # load signal and conduct ADC, readout, dark, flat, dead, linear correction\n",
    "    for i in range (5) : \n",
    "        # deal with AIRS-CH0\n",
    "        df = pd.read_parquet(os.path.join(path_folder,f'train/{index_chunk[i]}/AIRS-CH0_signal.parquet'))\n",
    "        signal = df.values.astype(np.float64).reshape((df.shape[0], 32, 356))\n",
    "        gain = train_adc_info['AIRS-CH0_adc_gain'].loc[index_chunk[i]]\n",
    "        offset = train_adc_info['AIRS-CH0_adc_offset'].loc[index_chunk[i]]\n",
    "        signal = ADC_convert(signal, gain, offset)\n",
    "        # dt_airs load signal integration time information\n",
    "        dt_airs = axis_info['AIRS-CH0-integration_time'].dropna().values\n",
    "        dt_airs[1::2] += 0.1\n",
    "        chopped_signal = signal[:, :, cut_inf:cut_sup]\n",
    "        del signal, df\n",
    "        \n",
    "        # clean AIRS data\n",
    "        readout = pd.read_parquet(os.path.join(path_folder,f'train/{index_chunk[i]}/AIRS-CH0_calibration/read.parquet')).values.astype(np.float64).reshape((32, 356))[:, cut_inf:cut_sup]\n",
    "        dark = pd.read_parquet(os.path.join(path_folder,f'train/{index_chunk[i]}/AIRS-CH0_calibration/dark.parquet')).values.astype(np.float64).reshape((32, 356))[:, cut_inf:cut_sup]\n",
    "        dead_airs = pd.read_parquet(os.path.join(path_folder,f'train/{index_chunk[i]}/AIRS-CH0_calibration/dead.parquet')).values.astype(np.float64).reshape((32, 356))[:, cut_inf:cut_sup]\n",
    "        linear_corr = pd.read_parquet(os.path.join(path_folder,f'train/{index_chunk[i]}/AIRS-CH0_calibration/linear_corr.parquet')).values.astype(np.float64).reshape((6, 32, 356))[:, :, cut_inf:cut_sup]\n",
    "        \n",
    "        if DO_READ:\n",
    "            chopped_signal = readout_correct(chopped_signal, readout)\n",
    "            AIRS_CH0_clean[i] = chopped_signal\n",
    "        else:\n",
    "            AIRS_CH0_clean[i] = chopped_signal\n",
    "        del readout\n",
    "\n",
    "        if DO_MASK:\n",
    "            chopped_signal = mask_hot_dead(chopped_signal, dead_airs, dark)\n",
    "            AIRS_CH0_clean[i] = chopped_signal\n",
    "        else:\n",
    "            AIRS_CH0_clean[i] = chopped_signal\n",
    "            \n",
    "        if DO_THE_NL_CORR: \n",
    "            linear_corr_signal = apply_linear_corr(linear_corr, AIRS_CH0_clean[i])\n",
    "            AIRS_CH0_clean[i,:, :, :] = linear_corr_signal\n",
    "        del linear_corr\n",
    "        \n",
    "        if DO_DARK: \n",
    "            cleaned_signal = clean_dark(AIRS_CH0_clean[i], dead_airs, dark, dt_airs)\n",
    "            AIRS_CH0_clean[i] = cleaned_signal\n",
    "        else: \n",
    "            pass\n",
    "        del dark\n",
    "        \n",
    "        # deal with FGS1 signal\n",
    "        df = pd.read_parquet(os.path.join(path_folder,f'train/{index_chunk[i]}/FGS1_signal.parquet'))\n",
    "        fgs_signal = df.values.astype(np.float64).reshape((df.shape[0], 32, 32))\n",
    "        \n",
    "        FGS1_gain = train_adc_info['FGS1_adc_gain'].loc[index_chunk[i]]\n",
    "        FGS1_offset = train_adc_info['FGS1_adc_offset'].loc[index_chunk[i]]\n",
    "        \n",
    "        fgs_signal = ADC_convert(fgs_signal, FGS1_gain, FGS1_offset)\n",
    "        dt_fgs1 = np.ones(len(fgs_signal))*0.1\n",
    "        dt_fgs1[1::2] += 0.1\n",
    "        chopped_FGS1 = fgs_signal\n",
    "        del fgs_signal, df\n",
    "        \n",
    "        # clean FGS1 data\n",
    "        readout = pd.read_parquet(os.path.join(path_folder,f'train/{index_chunk[i]}/FGS1_calibration/read.parquet')).values.astype(np.float64).reshape((32, 32))\n",
    "        dark = pd.read_parquet(os.path.join(path_folder,f'train/{index_chunk[i]}/FGS1_calibration/dark.parquet')).values.astype(np.float64).reshape((32, 32))\n",
    "        dead_fgs1 = pd.read_parquet(os.path.join(path_folder,f'train/{index_chunk[i]}/FGS1_calibration/dead.parquet')).values.astype(np.float64).reshape((32, 32))\n",
    "        linear_corr = pd.read_parquet(os.path.join(path_folder,f'train/{index_chunk[i]}/FGS1_calibration/linear_corr.parquet')).values.astype(np.float64).reshape((6, 32, 32))\n",
    "        \n",
    "        if DO_READ:\n",
    "            chopped_FGS1 = readout_correct(chopped_FGS1, readout)\n",
    "            FGS1_clean[i] = chopped_FGS1\n",
    "        else:\n",
    "            FGS1_clean[i] = chopped_FGS1\n",
    "        del readout\n",
    "        \n",
    "        if DO_MASK:\n",
    "            chopped_FGS1 = mask_hot_dead(chopped_FGS1, dead_fgs1, dark)\n",
    "            FGS1_clean[i] = chopped_FGS1\n",
    "        else:\n",
    "            FGS1_clean[i] = chopped_FGS1\n",
    "\n",
    "        if DO_THE_NL_CORR: \n",
    "            linear_corr_signal = apply_linear_corr(linear_corr, FGS1_clean[i])\n",
    "            FGS1_clean[i,:, :, :] = linear_corr_signal\n",
    "        del linear_corr\n",
    "        \n",
    "        if DO_DARK: \n",
    "            cleaned_signal = clean_dark(FGS1_clean[i], dead_fgs1, dark, dt_fgs1)\n",
    "            FGS1_clean[i] = cleaned_signal\n",
    "        else: \n",
    "            pass\n",
    "        del dark\n",
    "        \n",
    "    # CDS for whole chunk\n",
    "    AIRS_cds = get_cds(AIRS_CH0_clean)\n",
    "    FGS1_cds = get_cds(FGS1_clean)\n",
    "    \n",
    "    del AIRS_CH0_clean, FGS1_clean\n",
    "    \n",
    "    # flat field correction\n",
    "    for i in range (5):\n",
    "        flat_airs = pd.read_parquet(os.path.join(path_folder,f'train/{index_chunk[i]}/AIRS-CH0_calibration/flat.parquet')).values.astype(np.float64).reshape((32, 356))[:, cut_inf:cut_sup]\n",
    "        flat_fgs = pd.read_parquet(os.path.join(path_folder,f'train/{index_chunk[i]}/FGS1_calibration/flat.parquet')).values.astype(np.float64).reshape((32, 32))\n",
    "        if DO_FLAT:\n",
    "            corrected_AIRS_cds = correct_flat_field(flat_airs, dead_airs, AIRS_cds[i])\n",
    "            AIRS_cds[i] = corrected_AIRS_cds\n",
    "            corrected_FGS1_cds = correct_flat_field(flat_fgs, dead_fgs1, FGS1_cds[i])\n",
    "            FGS1_cds[i] = corrected_FGS1_cds\n",
    "        else:\n",
    "            pass\n",
    "\n",
    "    # Time Binning to reduce space\n",
    "    if TIME_BINNING:\n",
    "        AIRS_cds_binned = bin_obs(AIRS_cds,binning=30)\n",
    "        FGS1_cds_binned = bin_obs(FGS1_cds,binning=30*12)\n",
    "    else:\n",
    "        AIRS_cds = AIRS_cds.transpose(0,1,3,2) ## this is important to make it consistent for flat fielding, but you can always change it\n",
    "        AIRS_cds_binned = AIRS_cds\n",
    "        FGS1_cds = FGS1_cds.transpose(0,1,3,2)\n",
    "        FGS1_cds_binned = FGS1_cds\n",
    "    \n",
    "    del AIRS_cds, FGS1_cds\n",
    "    \n",
    "    \n",
    "    ## save data\n",
    "    np.save(os.path.join(path_out, 'AIRS_clean_train_{}.npy'.format(n)), AIRS_cds_binned)\n",
    "    np.save(os.path.join(path_out, 'FGS1_clean_train_{}.npy'.format(n)), FGS1_cds_binned)\n",
    "    del AIRS_cds_binned\n",
    "    del FGS1_cds_binned"
   ]
  },
  {
   "cell_type": "markdown",
   "metadata": {},
   "source": [
    "combine all data into one dataset"
   ]
  },
  {
   "cell_type": "code",
   "execution_count": 15,
   "metadata": {},
   "outputs": [],
   "source": [
    "def load_data (file, chunk_size, nb_files) : \n",
    "    data0 = np.load(file + '_0.npy')\n",
    "    data_all = np.zeros((nb_files*chunk_size+1, data0.shape[1], data0.shape[2], data0.shape[3]))\n",
    "    # the size of first chunk is 5\n",
    "    data_all[:(chunk_size+1)] = data0\n",
    "    for i in range (1, nb_files) : \n",
    "        data_all[(i*chunk_size+1):((i+1)*chunk_size+1)] = np.load(file + '_{}.npy'.format(i))\n",
    "    return data_all \n",
    "\n",
    "data_train = load_data(path_out + 'AIRS_clean_train', CHUNKS_SIZE, len(index)) \n",
    "data_train_FGS = load_data(path_out + 'FGS1_clean_train', CHUNKS_SIZE, len(index))\n"
   ]
  },
  {
   "cell_type": "code",
   "execution_count": 16,
   "metadata": {},
   "outputs": [],
   "source": [
    "np.save('./../autodl-tmp/data_raw_total/' + 'data_train_AIRS.npy', data_train)\n",
    "np.save('./../autodl-tmp/data_raw_total/' + 'data_train_FGS.npy', data_train_FGS)"
   ]
  },
  {
   "cell_type": "markdown",
   "metadata": {},
   "source": [
    "plot the data"
   ]
  },
  {
   "cell_type": "code",
   "execution_count": 17,
   "metadata": {},
   "outputs": [
    {
     "name": "stdout",
     "output_type": "stream",
     "text": [
      "Shape of the training datasset: \t\n",
      "\n",
      " For AIRS-CH0: (673, 187, 282, 32)\n",
      "\n",
      " For FGS1: (673, 187, 32, 32)\n"
     ]
    }
   ],
   "source": [
    "import matplotlib.pyplot as plt \n",
    "\n",
    "print('Shape of the training datasset: \\t')\n",
    "print('\\n For AIRS-CH0:', data_train.shape)\n",
    "print('\\n For FGS1:', data_train_FGS.shape)"
   ]
  },
  {
   "cell_type": "code",
   "execution_count": 18,
   "metadata": {},
   "outputs": [
    {
     "data": {
      "text/plain": [
       "<matplotlib.image.AxesImage at 0x7fe2fdcd16c0>"
      ]
     },
     "execution_count": 18,
     "metadata": {},
     "output_type": "execute_result"
    },
    {
     "data": {
      "image/png": "[encoded data removed]",
      "text/plain": [
       "<Figure size 640x480 with 1 Axes>"
      ]
     },
     "metadata": {},
     "output_type": "display_data"
    }
   ],
   "source": [
    "plt.imshow(data_train_FGS[6,51,:,:].T, aspect = 'auto')"
   ]
  },
  {
   "cell_type": "code",
   "execution_count": null,
   "metadata": {},
   "outputs": [
    {
     "data": {
      "text/plain": [
       "Text(0, 0.5, 'Normalized flux in the frame')"
      ]
     },
     "execution_count": 19,
     "metadata": {},
     "output_type": "execute_result"
    },
    {
     "data": {
      "image/png": "[encoded data removed]",
      "text/plain": [
       "<Figure size 640x480 with 1 Axes>"
      ]
     },
     "metadata": {},
     "output_type": "display_data"
    }
   ],
   "source": [
    "for i in range(len(data_train[20:30])) : \n",
    "    light_curve = data_train[i,:,:,:].sum(axis=(1,2))\n",
    "    plt.plot(light_curve/light_curve.mean(), '-', alpha=0.3)\n",
    "\n",
    "plt.xlabel('Time (frame index)')\n",
    "plt.ylabel('Normalized flux in the frame')"
   ]
  }
 ],
 "metadata": {
  "kernelspec": {
   "display_name": "torch",
   "language": "python",
   "name": "torch"
  },
  "language_info": {
   "codemirror_mode": {
    "name": "ipython",
    "version": 3
   },
   "file_extension": ".py",
   "mimetype": "text/x-python",
   "name": "python",
   "nbconvert_exporter": "python",
   "pygments_lexer": "ipython3",
   "version": "3.10.14"
  }
 },
 "nbformat": 4,
 "nbformat_minor": 4
}
