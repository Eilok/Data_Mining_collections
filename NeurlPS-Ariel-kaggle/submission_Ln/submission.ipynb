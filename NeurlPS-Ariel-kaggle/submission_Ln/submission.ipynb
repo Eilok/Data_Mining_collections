{
 "cells": [
  {
   "cell_type": "code",
   "execution_count": null,
   "metadata": {},
   "outputs": [],
   "source": [
    "# import library\n",
    "import numpy as np\n",
    "import pandas as pd\n",
    "import itertools\n",
    "import os\n",
    "import glob \n",
    "# from astropy.stats import sigma_clip\n",
    "\n",
    "from tqdm import tqdm\n",
    "\n",
    "from scipy.optimize import minimize\n",
    "from scipy import optimize"
   ]
  },
  {
   "cell_type": "code",
   "execution_count": null,
   "metadata": {},
   "outputs": [],
   "source": [
    "code_folder = \"/kaggle/input/ariel-submission/\"\n",
    "exec(open(code_folder+'feature_engineering.py', 'r').read())\n",
    "exec(open(code_folder+'preprocess_data.py', 'r').read())\n",
    "exec(open(code_folder+'combine_data.py', 'r').read())\n",
    "exec(open(code_folder+'inference.py', 'r').read())\n",
    "exec(open(code_folder+'postprocessing.py', 'r').read())"
   ]
  },
  {
   "cell_type": "code",
   "execution_count": null,
   "metadata": {},
   "outputs": [],
   "source": [
    "path_folder = \"/kaggle/input/ariel-data-challenge-2024/\"\n",
    "CHUNKS_SIZE = 1"
   ]
  },
  {
   "cell_type": "code",
   "execution_count": null,
   "metadata": {},
   "outputs": [],
   "source": [
    "test_adc_info = pd.read_csv(os.path.join(path_folder, 'test_adc_info.csv'))\n",
    "test_adc_info = test_adc_info.set_index('planet_id')\n",
    "axis_info = pd.read_parquet(os.path.join(path_folder,'axis_info.parquet'))\n",
    "\n",
    "index = test_adc_info.index\n",
    "data_train_AIRS, data_train_FGS = preprocess_data(index, CHUNKS_SIZE, path_folder, test_adc_info, axis_info)"
   ]
  },
  {
   "cell_type": "code",
   "execution_count": null,
   "metadata": {},
   "outputs": [],
   "source": [
    "dataset = combine_data(data_train_AIRS, data_train_FGS)\n",
    "\n",
    "# inference\n",
    "all_s = []\n",
    "for i in tqdm(range(len(dataset))):\n",
    "    signal = dataset[i,:,1:].mean(axis=1)\n",
    "    p1, p2 = phase_detector(signal)\n",
    "    r = minimize(\n",
    "                objective,\n",
    "                [0.0001],\n",
    "                method= 'Nelder-Mead'\n",
    "                  )\n",
    "    s = r.x[0]\n",
    "    all_s.append(s)\n",
    "    \n",
    "all_s = np.repeat(np.array(all_s), 283).reshape((len(all_s), 283))        \n",
    "all_s.shape"
   ]
  },
  {
   "cell_type": "code",
   "execution_count": null,
   "metadata": {},
   "outputs": [],
   "source": [
    "pred = all_s.clip(0)\n",
    "sigma = np.ones_like(all_s) * 0.000145\n",
    "\n",
    "sub_df = postprocessing(pred, sigma, index)\n",
    "sub_df.to_csv('/kaggle/working/submission.csv')"
   ]
  }
 ],
 "metadata": {
  "language_info": {
   "name": "python"
  }
 },
 "nbformat": 4,
 "nbformat_minor": 2
}
