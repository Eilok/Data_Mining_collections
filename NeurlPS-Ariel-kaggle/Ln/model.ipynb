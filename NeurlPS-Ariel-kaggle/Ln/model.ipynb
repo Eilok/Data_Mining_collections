{
 "cells": [
  {
   "cell_type": "code",
   "execution_count": 1,
   "metadata": {},
   "outputs": [],
   "source": [
    "# import libriaries\n",
    "import numpy as np\n",
    "import matplotlib.pyplot as plt\n",
    "import pandas as pd\n",
    "import random \n",
    "import os\n",
    "from tqdm import tqdm\n",
    "\n",
    "from scipy.optimize import minimize\n",
    "from scipy import optimize\n",
    "\n",
    "from sklearn.metrics import mean_squared_error, r2_score"
   ]
  },
  {
   "cell_type": "code",
   "execution_count": 2,
   "metadata": {},
   "outputs": [
    {
     "name": "stdout",
     "output_type": "stream",
     "text": [
      "Directory ./../../autodl-tmp/outputs_Ln/ already exists.\n"
     ]
    }
   ],
   "source": [
    "# set up the path and import the data\n",
    "data_folder = \"./../../autodl-tmp/data_raw_total/\"\n",
    "auxiliary_folder = \"./../../autodl-tmp/\"\n",
    "output_dir = \"./../../autodl-tmp/outputs_Ln/\"\n",
    "\n",
    "if not os.path.exists(output_dir):\n",
    "    os.makedirs(output_dir)\n",
    "    print(f\"Directory {output_dir} created.\")\n",
    "else:\n",
    "    print(f\"Directory {output_dir} already exists.\")\n",
    "\n",
    "data_train_AIRS = np.load(f'{data_folder}/data_train_AIRS.npy')\n",
    "data_train_FGS = np.load(f\"{data_folder}/data_train_FGS.npy\")"
   ]
  },
  {
   "cell_type": "code",
   "execution_count": 3,
   "metadata": {},
   "outputs": [],
   "source": [
    "# combine two dataset\n",
    "signal_AIRS_diff_transposed_binned, signal_FGS_diff_transposed_binned  = data_train_AIRS, data_train_FGS\n",
    "\n",
    "# compress the width of FGS image\n",
    "FGS_column = signal_FGS_diff_transposed_binned.sum(axis = 2)\n",
    "\n",
    "# concatenate the two data along the width axis\n",
    "dataset = np.concatenate([signal_AIRS_diff_transposed_binned, FGS_column[:,:, np.newaxis,:]], axis = 2)"
   ]
  },
  {
   "cell_type": "code",
   "execution_count": 4,
   "metadata": {},
   "outputs": [
    {
     "data": {
      "text/plain": [
       "(673, 187, 283)"
      ]
     },
     "execution_count": 4,
     "metadata": {},
     "output_type": "execute_result"
    }
   ],
   "source": [
    "# sum up the pixels along the height axis to transform the data into 2D images (times*wavelengths)\n",
    "dataset = dataset.sum(axis=3)\n",
    "dataset.shape"
   ]
  },
  {
   "cell_type": "code",
   "execution_count": 5,
   "metadata": {},
   "outputs": [
    {
     "name": "stderr",
     "output_type": "stream",
     "text": [
      "100%|██████████| 673/673 [00:33<00:00, 20.31it/s]\n"
     ]
    },
    {
     "data": {
      "text/plain": [
       "(673, 283)"
      ]
     },
     "execution_count": 5,
     "metadata": {},
     "output_type": "execute_result"
    }
   ],
   "source": [
    "# search for correct answer\n",
    "def phase_detector(signal):\n",
    "    MIN = np.argmin(signal[30:140])+30\n",
    "    signal1 = signal[:MIN ]\n",
    "    signal2 = signal[MIN :]\n",
    "\n",
    "    first_derivative1 = np.gradient(signal1)\n",
    "    first_derivative1 /= first_derivative1.max()\n",
    "    first_derivative2 = np.gradient(signal2)\n",
    "    first_derivative2 /= first_derivative2.max()\n",
    "\n",
    "    phase1 = np.argmin(first_derivative1)\n",
    "    phase2 = np.argmax(first_derivative2) + MIN\n",
    "\n",
    "    return phase1, phase2\n",
    "\n",
    "def objective(s):\n",
    "    best_q = 1e10\n",
    "    for i in range(4) :\n",
    "        delta = 2\n",
    "        x = list(range(signal.shape[0]-delta*4))\n",
    "        y = signal[:p1-delta].tolist() + (signal[p1+delta:p2 - delta] * (1 + s)).tolist() + signal[p2+delta:].tolist()\n",
    "        \n",
    "        z = np.polyfit(x, y, deg=i)\n",
    "        p = np.poly1d(z)\n",
    "        q = np.abs(p(x) - y).mean()\n",
    "    \n",
    "    if q < best_q :\n",
    "        best_q = q\n",
    "    \n",
    "    return q\n",
    "\n",
    "all_s = []\n",
    "for i in tqdm(range(len(dataset))):\n",
    "    \n",
    "    signal = dataset[i,:,1:].mean(axis=1)\n",
    "    p1,p2 = phase_detector(signal)\n",
    " \n",
    "    r = minimize(\n",
    "                objective,\n",
    "                [0.0001],\n",
    "                method= 'Nelder-Mead'\n",
    "                  )\n",
    "    s = r.x[0]\n",
    "    all_s.append(s)\n",
    "    \n",
    "all_s = np.repeat(np.array(all_s), 283).reshape((len(all_s), 283))        \n",
    "all_s.shape"
   ]
  },
  {
   "cell_type": "code",
   "execution_count": 6,
   "metadata": {},
   "outputs": [],
   "source": [
    "pred = all_s.clip(0)\n",
    "sigma = np.ones_like(all_s) * 0.000145"
   ]
  },
  {
   "cell_type": "code",
   "execution_count": 7,
   "metadata": {},
   "outputs": [],
   "source": [
    "# get the targets\n",
    "train_solution = np.loadtxt(f'{auxiliary_folder}/train_labels.csv', delimiter = ',', skiprows = 1)\n",
    "\n",
    "targets = train_solution[:,1:]"
   ]
  },
  {
   "cell_type": "code",
   "execution_count": 8,
   "metadata": {},
   "outputs": [
    {
     "data": {
      "text/plain": [
       "(673, 283)"
      ]
     },
     "execution_count": 8,
     "metadata": {},
     "output_type": "execute_result"
    }
   ],
   "source": [
    "targets.shape"
   ]
  },
  {
   "cell_type": "code",
   "execution_count": 9,
   "metadata": {},
   "outputs": [
    {
     "name": "stdout",
     "output_type": "stream",
     "text": [
      "RMSE: 0.00017095225223725605\n",
      "R2: 0.9902436058210237\n"
     ]
    }
   ],
   "source": [
    "# evaluation\n",
    "rmse = np.sqrt(mean_squared_error(targets, pred))\n",
    "r2 = r2_score(targets, pred)\n",
    "\n",
    "print(\"RMSE:\", rmse)\n",
    "print(\"R2:\", r2)"
   ]
  }
 ],
 "metadata": {
  "kernelspec": {
   "display_name": "torch",
   "language": "python",
   "name": "torch"
  },
  "language_info": {
   "codemirror_mode": {
    "name": "ipython",
    "version": 3
   },
   "file_extension": ".py",
   "mimetype": "text/x-python",
   "name": "python",
   "nbconvert_exporter": "python",
   "pygments_lexer": "ipython3",
   "version": "3.10.14"
  }
 },
 "nbformat": 4,
 "nbformat_minor": 4
}
